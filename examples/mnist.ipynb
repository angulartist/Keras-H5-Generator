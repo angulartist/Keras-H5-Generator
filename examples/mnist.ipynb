{
 "cells": [
  {
   "cell_type": "code",
   "execution_count": 10,
   "metadata": {},
   "outputs": [],
   "source": [
    "# Import the generator\n",
    "from h5imagegenerator import HDF5ImageGenerator\n",
    "\n",
    "import numpy as np\n",
    "\n",
    "# Some keras stuff\n",
    "from keras.optimizers import RMSprop\n",
    "from keras.callbacks import LearningRateScheduler\n",
    "\n",
    "# The image transformation pipeline (optional)\n",
    "from albumentations import (\n",
    "    Compose, ShiftScaleRotate\n",
    ")\n",
    "\n",
    "# Matplot\n",
    "import matplotlib\n",
    "import matplotlib.pyplot as plt\n",
    "matplotlib.use('Agg')  \n",
    "plt.style.use('seaborn-dark')\n",
    "%matplotlib inline"
   ]
  },
  {
   "cell_type": "code",
   "execution_count": 11,
   "metadata": {},
   "outputs": [
    {
     "name": "stdout",
     "output_type": "stream",
     "text": [
      "Mode: train\n",
      "Mode: train\n"
     ]
    }
   ],
   "source": [
    "# (Optional) Declare a transformation pipeline (data augmentation)\n",
    "myAugmenter = Compose([\n",
    "        ShiftScaleRotate(\n",
    "            shift_limit=0.0225,\n",
    "            scale_limit=0.06,\n",
    "            rotate_limit=30)\n",
    "    ])\n",
    "\n",
    "# Instanciate a train generator\n",
    "train_gen = HDF5ImageGenerator(\n",
    "    src= '/storage/datasets/mnist_train.h5',\n",
    "    scaler=True,\n",
    "    labels_encoding='smooth',\n",
    "    smooth_factor=0.1,\n",
    "    batch_size=128,\n",
    "    augmenter=myAugmenter)\n",
    "\n",
    "# Instanciate a test generator\n",
    "val_gen = HDF5ImageGenerator(\n",
    "    src= '/storage/datasets/mnist_test.h5',\n",
    "    scaler=True,\n",
    "    labels_encoding='smooth',\n",
    "    smooth_factor=0.1,\n",
    "    batch_size=128)"
   ]
  },
  {
   "cell_type": "markdown",
   "metadata": {},
   "source": [
    "### Network"
   ]
  },
  {
   "cell_type": "code",
   "execution_count": 12,
   "metadata": {},
   "outputs": [],
   "source": [
    "from keras.models import Model\n",
    "from keras import Input\n",
    "from keras import layers\n",
    "\n",
    "class CustomNet(object):\n",
    "    @staticmethod\n",
    "    def build(width, height, num_classes, depth=3):\n",
    "        input_shape = (height, width, depth)\n",
    "        chan_dim = -1\n",
    "\n",
    "        input_tensor = Input(shape=input_shape)\n",
    "        x = layers.SeparableConv2D(64,  (5, 5), padding='same', activation='relu')(input_tensor)\n",
    "        x = layers.BatchNormalization(axis=chan_dim)(x)\n",
    "        x = layers.SeparableConv2D(128, (5, 5), padding='same', activation='relu')(x)\n",
    "        x = layers.BatchNormalization(axis=chan_dim)(x)\n",
    "        x = layers.SeparableConv2D(128, (3, 3), padding='same', activation='relu')(x)\n",
    "        x = layers.BatchNormalization(axis=chan_dim)(x)\n",
    "        x = layers.MaxPooling2D(pool_size=(2, 2))(x)\n",
    "        x = layers.Dropout(0.1)(x)\n",
    "\n",
    "        x = layers.SeparableConv2D(128, (3, 3), padding='same', activation='relu')(x)\n",
    "        x = layers.BatchNormalization(axis=chan_dim)(x)\n",
    "        x = layers.SeparableConv2D(128, (3, 3), padding='same', activation='relu')(x)\n",
    "        x = layers.BatchNormalization(axis=chan_dim)(x)\n",
    "        x = layers.SeparableConv2D(128, (3, 3), padding='same', activation='relu')(x)\n",
    "        x = layers.BatchNormalization(axis=chan_dim)(x)\n",
    "        x = layers.MaxPooling2D(pool_size=(2, 2))(x)\n",
    "\n",
    "        '''\n",
    "        Flat the last output volume\n",
    "        into a column vector\n",
    "        '''\n",
    "        x = layers.Flatten()(x)\n",
    "        x = layers.Dense(256, activation='relu')(x)\n",
    "        x = layers.BatchNormalization(axis=chan_dim)(x)\n",
    "\n",
    "        '''\n",
    "        Add a final fully connected layer:\n",
    "        There are as many neurons as there are outputs (10 -> [0..9])\n",
    "        '''\n",
    "        output_tensor = layers.Dense(num_classes, activation='softmax')(x)\n",
    "\n",
    "        model = Model(input_tensor, output_tensor)\n",
    "\n",
    "        return model"
   ]
  },
  {
   "cell_type": "code",
   "execution_count": 13,
   "metadata": {},
   "outputs": [
    {
     "data": {
      "image/png": "[encoded data removed]",
      "text/plain": [
       "<Figure size 432x288 with 1 Axes>"
      ]
     },
     "metadata": {
      "needs_background": "light"
     },
     "output_type": "display_data"
    }
   ],
   "source": [
    "num_epochs = 2\n",
    "\n",
    "init_lr = 0.001\n",
    "\n",
    "def step_decay(epoch):\n",
    "    factor    = 0.5\n",
    "    drop_rate = 5\n",
    "\n",
    "    return float(init_lr * (factor ** np.floor((1 + epoch) / drop_rate)))\n",
    "\n",
    "x = np.linspace(0, num_epochs)\n",
    "fx = [float(init_lr * (0.5 ** np.floor((1 + i) / 5))) for i in range(len(x))]\n",
    "plt.plot(x, fx)\n",
    "plt.title(label='Step decay')\n",
    "plt.show()"
   ]
  },
  {
   "cell_type": "code",
   "execution_count": 14,
   "metadata": {},
   "outputs": [
    {
     "name": "stdout",
     "output_type": "stream",
     "text": [
      "Sat Mar 14 13:41:43 2020       \n",
      "+-----------------------------------------------------------------------------+\n",
      "| NVIDIA-SMI 418.67       Driver Version: 418.67       CUDA Version: 10.1     |\n",
      "|-------------------------------+----------------------+----------------------+\n",
      "| GPU  Name        Persistence-M| Bus-Id        Disp.A | Volatile Uncorr. ECC |\n",
      "| Fan  Temp  Perf  Pwr:Usage/Cap|         Memory-Usage | GPU-Util  Compute M. |\n",
      "|===============================+======================+======================|\n",
      "|   0  Quadro P5000        On   | 00000000:00:05.0 Off |                  Off |\n",
      "| 26%   36C    P8     6W / 180W |      1MiB / 16278MiB |      0%      Default |\n",
      "+-------------------------------+----------------------+----------------------+\n",
      "                                                                               \n",
      "+-----------------------------------------------------------------------------+\n",
      "| Processes:                                                       GPU Memory |\n",
      "|  GPU       PID   Type   Process name                             Usage      |\n",
      "|=============================================================================|\n",
      "|  No running processes found                                                 |\n",
      "+-----------------------------------------------------------------------------+\n"
     ]
    }
   ],
   "source": [
    "!nvidia-smi"
   ]
  },
  {
   "cell_type": "markdown",
   "metadata": {},
   "source": [
    "### Training"
   ]
  },
  {
   "cell_type": "code",
   "execution_count": 15,
   "metadata": {},
   "outputs": [
    {
     "name": "stdout",
     "output_type": "stream",
     "text": [
      "Epoch 1/2\n",
      "469/469 [==============================] - 40s 85ms/step - loss: 0.6482 - accuracy: 0.9613 - val_loss: 5.5459 - val_accuracy: 0.1146\n",
      "Epoch 2/2\n",
      "469/469 [==============================] - 35s 75ms/step - loss: 0.5600 - accuracy: 0.9866 - val_loss: 0.5312 - val_accuracy: 0.9905\n"
     ]
    }
   ],
   "source": [
    "model = CustomNet.build(\n",
    "    width=28,\n",
    "    height=28,\n",
    "    num_classes=10,\n",
    "    depth=1\n",
    ")\n",
    "\n",
    "rms = RMSprop(learning_rate=init_lr, rho=0.9)\n",
    "\n",
    "callbacks = [\n",
    "    LearningRateScheduler(step_decay)\n",
    "]\n",
    "\n",
    "model.compile(\n",
    "    loss='categorical_crossentropy',\n",
    "    metrics=['accuracy'],\n",
    "    optimizer=rms\n",
    ")\n",
    "\n",
    "h = model.fit_generator(\n",
    "    train_gen,\n",
    "    validation_data=val_gen,\n",
    "    callbacks=callbacks,\n",
    "    workers=10,\n",
    "    use_multiprocessing=True,\n",
    "    verbose=1,\n",
    "    epochs=num_epochs\n",
    ")"
   ]
  },
  {
   "cell_type": "markdown",
   "metadata": {},
   "source": [
    "### Viz/Evaluate"
   ]
  },
  {
   "cell_type": "code",
   "execution_count": 16,
   "metadata": {},
   "outputs": [
    {
     "data": {
      "image/png": "[encoded data removed]",
      "text/plain": [
       "<Figure size 720x432 with 1 Axes>"
      ]
     },
     "metadata": {
      "needs_background": "light"
     },
     "output_type": "display_data"
    }
   ],
   "source": [
    "plt.figure(figsize=(10, 6))\n",
    "plt.plot(np.arange(0, num_epochs), h.history['loss'], label='train_loss')\n",
    "plt.plot(np.arange(0, num_epochs), h.history['val_loss'], label='val_loss')\n",
    "\n",
    "plt.title('Train - Validation loss')\n",
    "plt.ylabel('Loss/Epochs')\n",
    "plt.xlabel('Epochs #')\n",
    "plt.legend()\n",
    "\n",
    "plt.show()"
   ]
  },
  {
   "cell_type": "code",
   "execution_count": 17,
   "metadata": {},
   "outputs": [
    {
     "data": {
      "image/png": "[encoded data removed]",
      "text/plain": [
       "<Figure size 720x432 with 1 Axes>"
      ]
     },
     "metadata": {
      "needs_background": "light"
     },
     "output_type": "display_data"
    }
   ],
   "source": [
    "plt.figure(figsize=(10, 6))\n",
    "plt.plot(np.arange(0, num_epochs), h.history['accuracy'], label='train_accuracy')\n",
    "plt.plot(np.arange(0, num_epochs), h.history['val_accuracy'], label='val_accuracy')\n",
    "\n",
    "plt.title('Train - Validation accuracy')\n",
    "plt.ylabel('Accuracy/Epochs')\n",
    "plt.xlabel('Epochs #')\n",
    "plt.legend()\n",
    "\n",
    "plt.show()"
   ]
  },
  {
   "cell_type": "code",
   "execution_count": 21,
   "metadata": {},
   "outputs": [
    {
     "name": "stdout",
     "output_type": "stream",
     "text": [
      "Mode: train\n",
      "79/79 [==============================] - 2s 26ms/step\n"
     ]
    },
    {
     "data": {
      "text/plain": [
       "[0.11649462580680847, 0.9904999732971191]"
      ]
     },
     "execution_count": 21,
     "metadata": {},
     "output_type": "execute_result"
    }
   ],
   "source": [
    "# Instanciate an eval generator (for demo purpose)\n",
    "eval_gen = HDF5ImageGenerator(\n",
    "    src= '/storage/datasets/mnist_test.h5',\n",
    "    scaler=True,\n",
    "    batch_size=128)\n",
    "\n",
    "preds = model.evaluate_generator(\n",
    "    eval_gen,\n",
    "    workers=10,\n",
    "    use_multiprocessing=True,\n",
    "    verbose=1\n",
    ")\n",
    "\n",
    "preds"
   ]
  },
  {
   "cell_type": "code",
   "execution_count": 19,
   "metadata": {},
   "outputs": [
    {
     "name": "stdout",
     "output_type": "stream",
     "text": [
      "Mode: test\n",
      "79/79 [==============================] - 2s 27ms/step\n"
     ]
    },
    {
     "data": {
      "text/plain": [
       "array([[0.00798903, 0.00373025, 0.00952555, ..., 0.936373  , 0.00480571,\n",
       "        0.00851837],\n",
       "       [0.00402834, 0.00707463, 0.9332887 , ..., 0.00353516, 0.0091834 ,\n",
       "        0.00593694],\n",
       "       [0.00958827, 0.92805606, 0.00875644, ..., 0.00461683, 0.00465838,\n",
       "        0.00510293],\n",
       "       ...,\n",
       "       [0.00881708, 0.00324891, 0.00440473, ..., 0.00185384, 0.00214328,\n",
       "        0.00976817],\n",
       "       [0.0077346 , 0.00407709, 0.00918451, ..., 0.00456119, 0.04367653,\n",
       "        0.00565844],\n",
       "       [0.02146659, 0.01336696, 0.03001815, ..., 0.00991501, 0.04936983,\n",
       "        0.00285271]], dtype=float32)"
      ]
     },
     "execution_count": 19,
     "metadata": {},
     "output_type": "execute_result"
    }
   ],
   "source": [
    "# Instanciate a test generator (for demo purpose)\n",
    "test_gen = HDF5ImageGenerator(\n",
    "    src= '/storage/datasets/mnist_test.h5',\n",
    "    scaler=True,\n",
    "    mode='test',\n",
    "    batch_size=128)\n",
    "\n",
    "preds = model.predict_generator(\n",
    "    test_gen,\n",
    "    workers=10,\n",
    "    use_multiprocessing=True,\n",
    "    verbose=1\n",
    ")\n",
    "\n",
    "preds"
   ]
  }
 ],
 "metadata": {
  "kernelspec": {
   "display_name": "Python 3",
   "language": "python",
   "name": "python3"
  },
  "language_info": {
   "codemirror_mode": {
    "name": "ipython",
    "version": 3
   },
   "file_extension": ".py",
   "mimetype": "text/x-python",
   "name": "python",
   "nbconvert_exporter": "python",
   "pygments_lexer": "ipython3",
   "version": "3.6.8"
  }
 },
 "nbformat": 4,
 "nbformat_minor": 4
}
