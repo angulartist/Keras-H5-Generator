{
 "cells": [
  {
   "cell_type": "code",
   "execution_count": 32,
   "metadata": {},
   "outputs": [],
   "source": [
    "# Import the generator\n",
    "from h5imagegenerator import HDF5ImageGenerator\n",
    "\n",
    "import numpy as np\n",
    "\n",
    "# Some keras stuff\n",
    "from keras.optimizers import RMSprop\n",
    "from keras.callbacks import LearningRateScheduler\n",
    "\n",
    "# The image transformation pipeline (optional)\n",
    "from albumentations import (\n",
    "    Compose, ShiftScaleRotate\n",
    ")\n",
    "\n",
    "# Matplot\n",
    "import matplotlib\n",
    "import matplotlib.pyplot as plt\n",
    "matplotlib.use('Agg')  \n",
    "plt.style.use('seaborn-dark')\n",
    "%matplotlib inline"
   ]
  },
  {
   "cell_type": "code",
   "execution_count": 33,
   "metadata": {},
   "outputs": [],
   "source": [
    "# (Optional) Declare a transformation pipeline (data augmentation)\n",
    "myAugmenter = Compose([\n",
    "        ShiftScaleRotate(\n",
    "            shift_limit=0.0225,\n",
    "            scale_limit=0.06,\n",
    "            rotate_limit=30)\n",
    "    ])\n",
    "\n",
    "# Instanciate a train generator\n",
    "train_gen = HDF5ImageGenerator(\n",
    "    src= '/storage/datasets/mnist_train.h5',\n",
    "    num_classes=10,\n",
    "    scaler=True,\n",
    "    labels_encoding='smooth',\n",
    "    smooth_factor=0.1,\n",
    "    batch_size=128,\n",
    "    augmenter=myAugmenter)\n",
    "\n",
    "# Instanciate a test generator\n",
    "val_gen = HDF5ImageGenerator(\n",
    "    src= '/storage/datasets/mnist_test.h5',\n",
    "    num_classes=10,\n",
    "    scaler=True,\n",
    "    labels_encoding='smooth',\n",
    "    smooth_factor=0.1,\n",
    "    batch_size=128)"
   ]
  },
  {
   "cell_type": "markdown",
   "metadata": {},
   "source": [
    "### Network"
   ]
  },
  {
   "cell_type": "code",
   "execution_count": 34,
   "metadata": {},
   "outputs": [],
   "source": [
    "from keras.models import Model\n",
    "from keras import Input\n",
    "from keras import layers\n",
    "\n",
    "class CustomNet(object):\n",
    "    @staticmethod\n",
    "    def build(width, height, num_classes, depth=3):\n",
    "        input_shape = (height, width, depth)\n",
    "        chan_dim = -1\n",
    "\n",
    "        input_tensor = Input(shape=input_shape)\n",
    "        x = layers.SeparableConv2D(64,  (5, 5), padding='same', activation='relu')(input_tensor)\n",
    "        x = layers.BatchNormalization(axis=chan_dim)(x)\n",
    "        x = layers.SeparableConv2D(128, (5, 5), padding='same', activation='relu')(x)\n",
    "        x = layers.BatchNormalization(axis=chan_dim)(x)\n",
    "        x = layers.SeparableConv2D(128, (3, 3), padding='same', activation='relu')(x)\n",
    "        x = layers.BatchNormalization(axis=chan_dim)(x)\n",
    "        x = layers.MaxPooling2D(pool_size=(2, 2))(x)\n",
    "        x = layers.Dropout(0.1)(x)\n",
    "\n",
    "        x = layers.SeparableConv2D(128, (3, 3), padding='same', activation='relu')(x)\n",
    "        x = layers.BatchNormalization(axis=chan_dim)(x)\n",
    "        x = layers.SeparableConv2D(128, (3, 3), padding='same', activation='relu')(x)\n",
    "        x = layers.BatchNormalization(axis=chan_dim)(x)\n",
    "        x = layers.SeparableConv2D(128, (3, 3), padding='same', activation='relu')(x)\n",
    "        x = layers.BatchNormalization(axis=chan_dim)(x)\n",
    "        x = layers.MaxPooling2D(pool_size=(2, 2))(x)\n",
    "\n",
    "        '''\n",
    "        Flat the last output volume\n",
    "        into a column vector\n",
    "        '''\n",
    "        x = layers.Flatten()(x)\n",
    "        x = layers.Dense(256, activation='relu')(x)\n",
    "        x = layers.BatchNormalization(axis=chan_dim)(x)\n",
    "\n",
    "        '''\n",
    "        Add a final fully connected layer:\n",
    "        There are as many neurons as there are outputs (10 -> [0..9])\n",
    "        '''\n",
    "        output_tensor = layers.Dense(num_classes, activation='softmax')(x)\n",
    "\n",
    "        model = Model(input_tensor, output_tensor)\n",
    "\n",
    "        return model"
   ]
  },
  {
   "cell_type": "code",
   "execution_count": 36,
   "metadata": {},
   "outputs": [
    {
     "data": {
      "image/png": "[encoded data removed]",
      "text/plain": [
       "<Figure size 432x288 with 1 Axes>"
      ]
     },
     "metadata": {
      "needs_background": "light"
     },
     "output_type": "display_data"
    }
   ],
   "source": [
    "num_epochs = 10\n",
    "\n",
    "init_lr = 0.001\n",
    "\n",
    "def step_decay(epoch):\n",
    "    factor    = 0.5\n",
    "    drop_rate = 5\n",
    "\n",
    "    return float(init_lr * (factor ** np.floor((1 + epoch) / drop_rate)))\n",
    "\n",
    "x = np.linspace(0, num_epochs)\n",
    "fx = [float(init_lr * (0.5 ** np.floor((1 + i) / 5))) for i in range(len(x))]\n",
    "plt.plot(x, fx)\n",
    "plt.title(label='Step decay')\n",
    "plt.show()"
   ]
  },
  {
   "cell_type": "markdown",
   "metadata": {},
   "source": [
    "### Training"
   ]
  },
  {
   "cell_type": "code",
   "execution_count": 37,
   "metadata": {},
   "outputs": [
    {
     "name": "stdout",
     "output_type": "stream",
     "text": [
      "Epoch 1/10\n",
      "469/469 [==============================] - 41s 88ms/step - loss: 0.6346 - accuracy: 0.9640 - val_loss: 2.3902 - val_accuracy: 0.4033\n",
      "Epoch 2/10\n",
      "469/469 [==============================] - 38s 80ms/step - loss: 0.5560 - accuracy: 0.9877 - val_loss: 0.5750 - val_accuracy: 0.9786\n",
      "Epoch 3/10\n",
      "469/469 [==============================] - 38s 80ms/step - loss: 0.5418 - accuracy: 0.9912 - val_loss: 0.5117 - val_accuracy: 0.9933\n",
      "Epoch 4/10\n",
      "469/469 [==============================] - 38s 80ms/step - loss: 0.5344 - accuracy: 0.9926 - val_loss: 0.5132 - val_accuracy: 0.9942\n",
      "Epoch 5/10\n",
      "469/469 [==============================] - 38s 80ms/step - loss: 0.5238 - accuracy: 0.9955 - val_loss: 0.5083 - val_accuracy: 0.9957\n",
      "Epoch 6/10\n",
      "469/469 [==============================] - 37s 80ms/step - loss: 0.5221 - accuracy: 0.9957 - val_loss: 0.5052 - val_accuracy: 0.9963\n",
      "Epoch 7/10\n",
      "469/469 [==============================] - 38s 80ms/step - loss: 0.5202 - accuracy: 0.9963 - val_loss: 0.5186 - val_accuracy: 0.9953\n",
      "Epoch 8/10\n",
      "469/469 [==============================] - 38s 80ms/step - loss: 0.5189 - accuracy: 0.9963 - val_loss: 0.5039 - val_accuracy: 0.9963\n",
      "Epoch 9/10\n",
      "469/469 [==============================] - 38s 80ms/step - loss: 0.5176 - accuracy: 0.9969 - val_loss: 0.5324 - val_accuracy: 0.9963\n",
      "Epoch 10/10\n",
      "469/469 [==============================] - 38s 80ms/step - loss: 0.5146 - accuracy: 0.9974 - val_loss: 0.5156 - val_accuracy: 0.9960\n"
     ]
    }
   ],
   "source": [
    "model = CustomNet.build(\n",
    "    width=28,\n",
    "    height=28,\n",
    "    num_classes=10,\n",
    "    depth=1\n",
    ")\n",
    "\n",
    "rms = RMSprop(learning_rate=init_lr, rho=0.9)\n",
    "\n",
    "callbacks = [\n",
    "    LearningRateScheduler(step_decay)\n",
    "]\n",
    "\n",
    "model.compile(\n",
    "    loss='categorical_crossentropy',\n",
    "    metrics=['accuracy'],\n",
    "    optimizer=rms\n",
    ")\n",
    "\n",
    "h = model.fit_generator(\n",
    "    train_gen,\n",
    "    validation_data=val_gen,\n",
    "    steps_per_epoch=len(train_gen),\n",
    "    validation_steps=len(val_gen),\n",
    "    callbacks=callbacks,\n",
    "    workers=10,\n",
    "    use_multiprocessing=True,\n",
    "    verbose=1,\n",
    "    epochs=num_epochs\n",
    ")"
   ]
  },
  {
   "cell_type": "markdown",
   "metadata": {},
   "source": [
    "### Viz/Evaluate"
   ]
  },
  {
   "cell_type": "code",
   "execution_count": 38,
   "metadata": {},
   "outputs": [
    {
     "data": {
      "image/png": "[encoded data removed]",
      "text/plain": [
       "<Figure size 720x432 with 1 Axes>"
      ]
     },
     "metadata": {
      "needs_background": "light"
     },
     "output_type": "display_data"
    }
   ],
   "source": [
    "plt.figure(figsize=(10, 6))\n",
    "plt.plot(np.arange(0, num_epochs), h.history['loss'], label='train_loss')\n",
    "plt.plot(np.arange(0, num_epochs), h.history['val_loss'], label='val_loss')\n",
    "\n",
    "plt.title('Train - Validation loss')\n",
    "plt.ylabel('Loss/Epochs')\n",
    "plt.xlabel('Epochs #')\n",
    "plt.legend()\n",
    "\n",
    "plt.show()"
   ]
  },
  {
   "cell_type": "code",
   "execution_count": 39,
   "metadata": {},
   "outputs": [
    {
     "data": {
      "image/png": "[encoded data removed]",
      "text/plain": [
       "<Figure size 720x432 with 1 Axes>"
      ]
     },
     "metadata": {
      "needs_background": "light"
     },
     "output_type": "display_data"
    }
   ],
   "source": [
    "plt.figure(figsize=(10, 6))\n",
    "plt.plot(np.arange(0, num_epochs), h.history['accuracy'], label='train_accuracy')\n",
    "plt.plot(np.arange(0, num_epochs), h.history['val_accuracy'], label='val_accuracy')\n",
    "\n",
    "plt.title('Train - Validation accuracy')\n",
    "plt.ylabel('Accuracy/Epochs')\n",
    "plt.xlabel('Epochs #')\n",
    "plt.legend()\n",
    "\n",
    "plt.show()"
   ]
  }
 ],
 "metadata": {
  "kernelspec": {
   "display_name": "Python 3",
   "language": "python",
   "name": "python3"
  },
  "language_info": {
   "codemirror_mode": {
    "name": "ipython",
    "version": 3
   },
   "file_extension": ".py",
   "mimetype": "text/x-python",
   "name": "python",
   "nbconvert_exporter": "python",
   "pygments_lexer": "ipython3",
   "version": "3.6.8"
  }
 },
 "nbformat": 4,
 "nbformat_minor": 4
}
